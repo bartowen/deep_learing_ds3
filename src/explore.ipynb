{
    "cells": [
        {
            "cell_type": "markdown",
            "metadata": {},
            "source": [
                "# Explore here"
            ]
        },
        {
            "cell_type": "code",
            "execution_count": 1,
            "metadata": {},
            "outputs": [],
            "source": [
                "# Your code here\n",
                "import shutil\n",
                "import os\n",
                "\n",
                "def separar_imagenes(ruta_carpeta):\n",
                "    archivos = os.listdir(ruta_carpeta)\n",
                "    for archivo in archivos:\n",
                "        if archivo.startswith('dog'):\n",
                "            destino = os.path.join(ruta_carpeta, 'dog')\n",
                "        elif archivo.startswith('cat'):\n",
                "            destino = os.path.join(ruta_carpeta, 'cat')\n",
                "        else:\n",
                "            pass\n",
                "        shutil.move(os.path.join(ruta_carpeta, archivo), destino)\n",
                "\n",
                "separar_imagenes('/Users/felip/repos/deep_learing_ds3-1/deep_learing_ds3/data/raw/train')\n",
                "\n",
                "# El código mueve los archivos a las c|||arpetas correspondientes, dog o cat, según el nombre del archivo.\"\n"
            ]
        },
        {
            "cell_type": "code",
            "execution_count": 6,
            "metadata": {},
            "outputs": [
                {
                    "ename": "ModuleNotFoundError",
                    "evalue": "No module named 'keras'",
                    "output_type": "error",
                    "traceback": [
                        "\u001b[31m---------------------------------------------------------------------------\u001b[39m",
                        "\u001b[31mModuleNotFoundError\u001b[39m                       Traceback (most recent call last)",
                        "\u001b[36mCell\u001b[39m\u001b[36m \u001b[39m\u001b[32mIn[6]\u001b[39m\u001b[32m, line 1\u001b[39m\n\u001b[32m----> \u001b[39m\u001b[32m1\u001b[39m \u001b[38;5;28;01mfrom\u001b[39;00m\u001b[38;5;250m \u001b[39m\u001b[34;01mkeras\u001b[39;00m\u001b[34;01m.\u001b[39;00m\u001b[34;01mpreprocessing\u001b[39;00m\u001b[38;5;250m \u001b[39m\u001b[38;5;28;01mimport\u001b[39;00m image\n\u001b[32m      2\u001b[39m \u001b[38;5;28;01mimport\u001b[39;00m\u001b[38;5;250m \u001b[39m\u001b[34;01mmatplotlib\u001b[39;00m\u001b[34;01m.\u001b[39;00m\u001b[34;01mpyplot\u001b[39;00m\u001b[38;5;250m \u001b[39m\u001b[38;5;28;01mas\u001b[39;00m\u001b[38;5;250m \u001b[39m\u001b[34;01mplt\u001b[39;00m\n\u001b[32m      4\u001b[39m data_dir = \u001b[33m'\u001b[39m\u001b[33m../data/raw/train\u001b[39m\u001b[33m'\u001b[39m\n",
                        "\u001b[31mModuleNotFoundError\u001b[39m: No module named 'keras'"
                    ]
                }
            ],
            "source": [
                "from keras.preprocessing import image\n",
                "import matplotlib.pyplot as plt\n",
                "\n",
                "data_dir = '../data/raw/train'\n",
                "subfolder_dog = os.path.join(data_dir, 'dog')\n",
                "\n",
                "imangens_perros = os.listdir(subfolder_dog)\n",
                "\n",
                "dog_images = []\n",
                "\n",
                "for i in range(9):\n",
                "    ruta_imagen = os.path.join(subfolder_dog, imangens_perros[i])\n",
                "    img = image.load_img(ruta_imagen, target_size=(200, 200))\n",
                "    img_array = image.img_to_array(img)\n",
                "    img_array = img_array / 255.0  # Normalizar la imagen\n",
                "    dog_images.append(img_array)\n",
                "\n",
                "plt.figure(figsize=(12, 12))\n",
                "\n",
                "for i in range(9):\n",
                "    plt.subplot (3, 3, i + 1)\n",
                "    plt.imshow(dog_images[i])\n",
                "    plt.axis('off')\n",
                "    plt.title('Perro {}'.format(i + 1))\n",
                "plt.show()\n",
                "\n",
                "# El código carga y normaliza las imágenes de perros, y luego las muestra en una cuadrícula de 3x3 utilizando Matplotlib.\n",
                "# La normalización se realiza dividiendo los valores de los píxeles por 255.0 para que estén en el rango [0, 1].\n",
                "# La función plt.subplot se utiliza para crear una cuadrícula de subgráficas, y plt.imshow muestra cada imagen.\n",
                "# La función plt.axis('off') se utiliza para ocultar los ejes de las subgráficas.\n"
            ]
        }
    ],
    "metadata": {
        "kernelspec": {
            "display_name": "Python 3",
            "language": "python",
            "name": "python3"
        },
        "language_info": {
            "codemirror_mode": {
                "name": "ipython",
                "version": 3
            },
            "file_extension": ".py",
            "mimetype": "text/x-python",
            "name": "python",
            "nbconvert_exporter": "python",
            "pygments_lexer": "ipython3",
            "version": "3.11.9"
        },
        "orig_nbformat": 4
    },
    "nbformat": 4,
    "nbformat_minor": 2
}
