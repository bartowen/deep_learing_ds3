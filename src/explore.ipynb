{
    "cells": [
        {
            "cell_type": "markdown",
            "metadata": {},
            "source": [
                "# Explore here"
            ]
        },
        {
            "cell_type": "code",
            "execution_count": null,
            "metadata": {},
            "outputs": [],
            "source": [
                "# Your code here\n",
                "import shutil\n",
                "import os\n",
                "\n",
                "def separar_imagenes(ruta_carpeta):\n",
                "    archivos = os.listdir(ruta_carpeta)\n",
                "    for archivo in archivos:\n",
                "        if archivo.startswith('dog'):\n",
                "            destino = os.path.join(ruta_carpeta, 'dog')\n",
                "        elif archivo.startswith('cat'):\n",
                "            destino = os.path.join(ruta_carpeta, 'cat')\n",
                "        else:\n",
                "            pass\n",
                "        shutil.move(os.path.join(ruta_carpeta, archivo), destino)\n",
                "\n",
                "separar_imagenes('/Users/felip/repos/deep_learing_ds3-1/deep_learing_ds3/data/raw/train')\n",
                "\n",
                "# El código mueve los archivos a las c|||arpetas correspondientes, dog o cat, según el nombre del archivo.\"\n"
            ]
        }
    ],
    "metadata": {
        "kernelspec": {
            "display_name": "Python 3",
            "language": "python",
            "name": "python3"
        },
        "language_info": {
            "codemirror_mode": {
                "name": "ipython",
                "version": 3
            },
            "file_extension": ".py",
            "mimetype": "text/x-python",
            "name": "python",
            "nbconvert_exporter": "python",
            "pygments_lexer": "ipython3",
            "version": "3.11.9"
        },
        "orig_nbformat": 4
    },
    "nbformat": 4,
    "nbformat_minor": 2
}
